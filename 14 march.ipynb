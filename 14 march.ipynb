{
 "cells": [
  {
   "cell_type": "code",
   "execution_count": 1,
   "id": "7235aa24-f2e2-4c47-9c9e-34712e041d24",
   "metadata": {},
   "outputs": [
    {
     "name": "stdout",
     "output_type": "stream",
     "text": [
      "0.010464 0.00042400000000000017\n"
     ]
    },
    {
     "data": {
      "text/plain": [
       "(24.679245283018858, 0.004431318383760985)"
      ]
     },
     "execution_count": 1,
     "metadata": {},
     "output_type": "execute_result"
    }
   ],
   "source": [
    "# Q1\n",
    "import numpy as np\n",
    "import scipy.stats\n",
    "  \n",
    "group1 = [0.28, 0.2, 0.26, 0.28, 0.5]\n",
    "group2 = [0.2, 0.23, 0.26, 0.21, 0.23]\n",
    "  \n",
    "x = np.array(group1)\n",
    "y = np.array(group2)\n",
    "  \n",
    "print(np.var(group1), np.var(group2))\n",
    "  \n",
    "def f_test(group1, group2):\n",
    "    f = np.var(group1, ddof=1)/np.var(group2, ddof=1)\n",
    "    nun = x.size-1\n",
    "    dun = y.size-1\n",
    "    p_value = 1-scipy.stats.f.cdf(f, nun, dun)\n",
    "    return f, p_value  \n",
    "  \n",
    "f_test(x, y)"
   ]
  },
  {
   "cell_type": "code",
   "execution_count": 2,
   "id": "6d859236-ac74-46ba-801c-32917ff8a87e",
   "metadata": {},
   "outputs": [
    {
     "name": "stdout",
     "output_type": "stream",
     "text": [
      "4.533676950275243\n"
     ]
    }
   ],
   "source": [
    "# Q2\n",
    "import scipy.stats\n",
    "print(scipy.stats.f.ppf(q=1-.05, dfn=4, dfd=6))"
   ]
  },
  {
   "cell_type": "code",
   "execution_count": 3,
   "id": "e571c4c6-4dc5-4b94-a6c9-bff2a5e3271b",
   "metadata": {},
   "outputs": [
    {
     "name": "stdout",
     "output_type": "stream",
     "text": [
      "[32, 34, 29, 29, 22, 29, 38, 37, 38, 36, 30, 26, 22, 25]\n",
      "degrees of freedom 13\n",
      "mean 30.5\n",
      "p-values 0.7417622686740349\n",
      "we are accepting null hypothesis\n"
     ]
    }
   ],
   "source": [
    "# Q3\n",
    "from scipy.stats import ttest_1samp\n",
    "import numpy as np\n",
    "ages = [32,34,29,29,22,29,38,37,38,36,30,26,22,25]\n",
    "print(ages)\n",
    "print(\"degrees of freedom\" ,len(ages)-1)\n",
    "ages_mean = np.mean(ages)\n",
    "print(\"mean\",ages_mean)\n",
    "tset, pval = ttest_1samp(ages, 30)\n",
    "print(\"p-values\",pval)\n",
    "if pval < 0.05:    # alpha value is 0.05 or 5%\n",
    "   print(\" we are rejecting null hypothesis\")\n",
    "else:\n",
    "  print(\"we are accepting null hypothesis\")"
   ]
  },
  {
   "cell_type": "code",
   "execution_count": 4,
   "id": "39a5fe6b-6ecc-4ddb-ada7-d48b309e86ad",
   "metadata": {},
   "outputs": [
    {
     "data": {
      "text/plain": [
       "'Given :\\n   n = 12, alpha = 0.05, variance1 = 10, variance2 = 15\\n   1. null hypothesis H0  variance1 = variance2\\n      alternate hypothesis H1  variance1 != variance2\\n   2. Calculation of variance:\\n             S^2 = sum of all (i=1 to n) (Xi - mean)^2/(n-1)\\n        So,\\n        S1 = sqrt(9.09)\\n        S2 = Sqrt(2.45)\\n            \\n   3. Calcullating of variance ratio (F test):\\n           F = S1/S2\\n           F = 1.92\\n   4. Decision rule:\\n        Df1 = 12-1 = 11\\n     if F test score is greater than 3.49 , reject the null hypothesis\\nnow, \\n    F = 1.92 > 3.49 [False], So accept the null hypothesis\\n    \\n'"
      ]
     },
     "execution_count": 4,
     "metadata": {},
     "output_type": "execute_result"
    }
   ],
   "source": [
    "# Q4\n",
    "'''Given :\n",
    "   n = 12, alpha = 0.05, variance1 = 10, variance2 = 15\n",
    "   1. null hypothesis H0  variance1 = variance2\n",
    "      alternate hypothesis H1  variance1 != variance2\n",
    "   2. Calculation of variance:\n",
    "             S^2 = sum of all (i=1 to n) (Xi - mean)^2/(n-1)\n",
    "        So,\n",
    "        S1 = sqrt(9.09)\n",
    "        S2 = Sqrt(2.45)\n",
    "            \n",
    "   3. Calcullating of variance ratio (F test):\n",
    "           F = S1/S2\n",
    "           F = 1.92\n",
    "   4. Decision rule:\n",
    "        Df1 = 12-1 = 11\n",
    "     if F test score is greater than 3.49 , reject the null hypothesis\n",
    "now, \n",
    "    F = 1.92 > 3.49 [False], So accept the null hypothesis\n",
    "    \n",
    "'''"
   ]
  },
  {
   "cell_type": "code",
   "execution_count": 5,
   "id": "d29f5edd-6197-4c96-9961-648e6b725b9c",
   "metadata": {},
   "outputs": [
    {
     "data": {
      "text/plain": [
       "'Given :\\n   n = 25, alpha = 0.05, variance1 = 0.005, variance2 = 0.006\\n   1. null hypothesis H0  variance1 = variance2\\n      alternate hypothesis H1  variance1 != variance2 [one tail]\\n   2. Calculation of variance:\\n             S^2 = sum of all (i=1 to n) (Xi - mean)^2/(n-1)\\n        So,\\n        S1 = sqrt(0.0000104)\\n        S2 = Sqrt(0.0000105)\\n            \\n   3. Calcullating of variance ratio (F test):\\n           F = S1/S2\\n           F = 1 (App.)\\n   4. Decision rule:\\n        Df1 = 25-1 = 24\\n     if F test score is greater than 2.208 , reject the null hypothesis\\nnow, \\n    F = 1 > 3.49 [False], So accept the null hypothesis\\n    \\n'"
      ]
     },
     "execution_count": 5,
     "metadata": {},
     "output_type": "execute_result"
    }
   ],
   "source": [
    "# Q5\n",
    "'''Given :\n",
    "   n = 25, alpha = 0.05, variance1 = 0.005, variance2 = 0.006\n",
    "   1. null hypothesis H0  variance1 = variance2\n",
    "      alternate hypothesis H1  variance1 != variance2 [one tail]\n",
    "   2. Calculation of variance:\n",
    "             S^2 = sum of all (i=1 to n) (Xi - mean)^2/(n-1)\n",
    "        So,\n",
    "        S1 = sqrt(0.0000104)\n",
    "        S2 = Sqrt(0.0000105)\n",
    "            \n",
    "   3. Calcullating of variance ratio (F test):\n",
    "           F = S1/S2\n",
    "           F = 1 (App.)\n",
    "   4. Decision rule:\n",
    "        Df1 = 25-1 = 24\n",
    "     if F test score is greater than 2.208 , reject the null hypothesis\n",
    "now, \n",
    "    F = 1 > 3.49 [False], So accept the null hypothesis\n",
    "    \n",
    "'''"
   ]
  },
  {
   "cell_type": "code",
   "execution_count": 6,
   "id": "ad65eae1-1bb5-428c-92a2-4c3b75c451bd",
   "metadata": {},
   "outputs": [
    {
     "name": "stdout",
     "output_type": "stream",
     "text": [
      "Variance of sample set is 0.40924000000000005\n",
      "Mean of sample set is 2.3\n"
     ]
    }
   ],
   "source": [
    "# Q6\n",
    "import statistics\n",
    " \n",
    "sample = [2.74, 1.23, 2.63, 2.22, 3, 1.98]\n",
    " \n",
    "print(\"Variance of sample set is % s\"\n",
    "      %(statistics.variance(sample)))\n",
    "print(\"Mean of sample set is % s\"\n",
    "      %(statistics.mean(sample)))"
   ]
  },
  {
   "cell_type": "code",
   "execution_count": 7,
   "id": "3b18c457-8a1b-4c03-847c-8642f41be64e",
   "metadata": {},
   "outputs": [
    {
     "data": {
      "text/plain": [
       "'Given :\\n   n = 10, alpha = 0.10, variance1 = 25, variance2 = 20\\n   1. null hypothesis H0  variance1 = variance2\\n      alternate hypothesis H1  variance1 != variance2\\n   2. Calculation of variance:\\n             S^2 = sum of all (i=1 to n) (Xi - mean)^2/(n-1)\\n        So,\\n        S1 = sqrt(44.44)\\n        S2 = Sqrt(61.44)\\n            \\n   3. Calcullating of variance ratio (F test):\\n           F = S1/S2\\n           F = 0.85\\n   4. Decision rule:\\n        Df1 = 10-1 = 9\\n     if F test score is greater than 2.44 , reject the null hypothesis\\nnow, \\n    F = 0.85 > 2.44 [False], So accept the null hypothesis\\n    \\n'"
      ]
     },
     "execution_count": 7,
     "metadata": {},
     "output_type": "execute_result"
    }
   ],
   "source": [
    "# Q7\n",
    "'''Given :\n",
    "   n = 10, alpha = 0.10, variance1 = 25, variance2 = 20\n",
    "   1. null hypothesis H0  variance1 = variance2\n",
    "      alternate hypothesis H1  variance1 != variance2\n",
    "   2. Calculation of variance:\n",
    "             S^2 = sum of all (i=1 to n) (Xi - mean)^2/(n-1)\n",
    "        So,\n",
    "        S1 = sqrt(44.44)\n",
    "        S2 = Sqrt(61.44)\n",
    "            \n",
    "   3. Calcullating of variance ratio (F test):\n",
    "           F = S1/S2\n",
    "           F = 0.85\n",
    "   4. Decision rule:\n",
    "        Df1 = 10-1 = 9\n",
    "     if F test score is greater than 2.44 , reject the null hypothesis\n",
    "now, \n",
    "    F = 0.85 > 2.44 [False], So accept the null hypothesis\n",
    "    \n",
    "'''"
   ]
  },
  {
   "cell_type": "code",
   "execution_count": 16,
   "id": "b1525b2c-1973-4b9a-b71b-57ef44046701",
   "metadata": {},
   "outputs": [
    {
     "name": "stdout",
     "output_type": "stream",
     "text": [
      "24.142857142857142 32.833333333333336\n"
     ]
    },
    {
     "data": {
      "text/plain": [
       "'Alpha = 0.05\\n1. null hypothesis H0  variance1 = variance2\\n      alternate hypothesis H1  variance1 != variance2\\n   2. Calculation of variance:\\nlet sample_mean1 = 24.143, sample_mean2 = 32.833\\ns1 = (-0.143+.857+3.857-1.43-2.143-4.143+2.857)/6 = -0.048\\ns2 = (-1.833+.167+2.167-2.833-.833+3.167)/5 = 0.0004\\n3. Calcullating of variance ratio (F test):\\n           F = S1/S2\\n           F = 0.048/0.0004\\n   4. Decision rule:\\n        Df1 = 7-1 = 6\\n        Df2 = 6-1 = 5\\n     if F test score is greater than 4.9 , reject the null hypothesis\\nnow, \\n    F = 12 > 4.9 [ture], So reject the null hypothesis\\n'"
      ]
     },
     "execution_count": 16,
     "metadata": {},
     "output_type": "execute_result"
    }
   ],
   "source": [
    "# Q8\n",
    "RestaurantA = [24, 25, 28, 23, 22, 20, 27]\n",
    "RestaurantB = [31, 33, 35, 30, 32, 36]\n",
    "import statistics\n",
    "sample_mean1 = statistics.mean(RestaurantA)\n",
    "sample_mean2 = statistics.mean(RestaurantB)\n",
    "print(sample_mean1,sample_mean2)\n",
    "'''Alpha = 0.05\n",
    "1. null hypothesis H0  variance1 = variance2\n",
    "      alternate hypothesis H1  variance1 != variance2\n",
    "   2. Calculation of variance:\n",
    "let sample_mean1 = 24.143, sample_mean2 = 32.833\n",
    "S1 = (-0.143+.857+3.857-1.43-2.143-4.143+2.857)/6 = -0.048\n",
    "S2 = (-1.833+.167+2.167-2.833-.833+3.167)/5 = 0.0004\n",
    "3. Calcullating of variance ratio (F test):\n",
    "           F = S1/S2\n",
    "           F = 0.048/0.0004\n",
    "   4. Decision rule:\n",
    "        Df1 = 7-1 = 6\n",
    "        Df2 = 6-1 = 5\n",
    "     if F test score is greater than 4.9 , reject the null hypothesis\n",
    "now, \n",
    "    F = 12 > 4.9 [ture], So reject the null hypothesis\n",
    "'''"
   ]
  },
  {
   "cell_type": "code",
   "execution_count": 20,
   "id": "a4abbf29-cbd2-479c-9465-50ea77089ac8",
   "metadata": {},
   "outputs": [
    {
     "name": "stdout",
     "output_type": "stream",
     "text": [
      "86.16666666666667 79.83333333333333\n"
     ]
    },
    {
     "data": {
      "text/plain": [
       "'Alpha = 0.01 , n= 6\\n1. null hypothesis H0  variance1 = variance2\\n      alternate hypothesis H1  variance1 != variance2\\n   2. Calculation of variance:\\nlet sample_mean1 = 86.166, sample_mean2 = 79.833\\nS1 = (-6.166-1.166+3.834+5.834+1.834-3.166)/5 = 0.2008\\nS2 = (-4.833-1.833+2.167-.833+1.167+4.167)/5 = 0.0004\\n3. Calcullating of variance ratio (F test):\\n           F = S1/S2\\n           F = 0.2008/0.0004 = 502\\n   4. Decision rule:\\n        Df1 = 6-1 = 5\\n        Df2 = 6-1 = 5\\n     if F test score is greater than 10.967 , reject the null hypothesis\\nnow, \\n    F = 502 > 10.967 [ture], So reject the null hypothesis\\n'"
      ]
     },
     "execution_count": 20,
     "metadata": {},
     "output_type": "execute_result"
    }
   ],
   "source": [
    "# Q9\n",
    "GroupA = [80, 85, 90, 92, 87, 83]\n",
    "GroupB = [75, 78, 82, 79, 81, 84]\n",
    "import statistics\n",
    "sample_mean1 = statistics.mean(GroupA)\n",
    "sample_mean2 = statistics.mean(GroupB)\n",
    "print(sample_mean1,sample_mean2)\n",
    "'''Alpha = 0.01 , n= 6\n",
    "1. null hypothesis H0  variance1 = variance2\n",
    "      alternate hypothesis H1  variance1 != variance2\n",
    "   2. Calculation of variance:\n",
    "let sample_mean1 = 86.166, sample_mean2 = 79.833\n",
    "S1 = (-6.166-1.166+3.834+5.834+1.834-3.166)/5 = 0.2008\n",
    "S2 = (-4.833-1.833+2.167-.833+1.167+4.167)/5 = 0.0004\n",
    "3. Calcullating of variance ratio (F test):\n",
    "           F = S1/S2\n",
    "           F = 0.2008/0.0004 = 502\n",
    "   4. Decision rule:\n",
    "        Df1 = 6-1 = 5\n",
    "        Df2 = 6-1 = 5\n",
    "     if F test score is greater than 10.967 , reject the null hypothesis\n",
    "now, \n",
    "    F = 502 > 10.967 [ture], So reject the null hypothesis\n",
    "'''"
   ]
  },
  {
   "cell_type": "code",
   "execution_count": null,
   "id": "dffc8f04-c4d0-4b08-b23f-38793bd0b03d",
   "metadata": {},
   "outputs": [],
   "source": []
  },
  {
   "cell_type": "code",
   "execution_count": null,
   "id": "fdfd4e48-6ece-40a2-89af-44bbc0884fbc",
   "metadata": {},
   "outputs": [],
   "source": []
  }
 ],
 "metadata": {
  "kernelspec": {
   "display_name": "Python 3 (ipykernel)",
   "language": "python",
   "name": "python3"
  },
  "language_info": {
   "codemirror_mode": {
    "name": "ipython",
    "version": 3
   },
   "file_extension": ".py",
   "mimetype": "text/x-python",
   "name": "python",
   "nbconvert_exporter": "python",
   "pygments_lexer": "ipython3",
   "version": "3.10.8"
  }
 },
 "nbformat": 4,
 "nbformat_minor": 5
}
